{
 "cells": [
  {
   "cell_type": "markdown",
   "metadata": {},
   "source": [
    "## Fourth version\n",
    "### Working but much slower than GRASS SIG implementation"
   ]
  },
  {
   "cell_type": "code",
   "execution_count": 3,
   "metadata": {},
   "outputs": [
    {
     "name": "stdout",
     "output_type": "stream",
     "text": [
      "Enter the path to your cost raster file: C:\\ProofCost\\proof_dtm.tif\n",
      "Enter the path for the outputcost distance raster file: C:\\ProofCost\\proof_costsAcum.tif\n",
      "Enter the latitude of the starting point: 37.2562\n",
      "Enter the longitude of the starting point: -2.5576\n",
      "Output raster created: path_to_output_raster_file.tif\n"
     ]
    }
   ],
   "source": [
    "import numpy as np\n",
    "import rasterio\n",
    "import heapq\n",
    "from rasterio.transform import rowcol\n",
    "\n",
    "def movement_options():\n",
    "    \"\"\" Returns the relative positions of a knight's moves and adjacent moves in a grid. \"\"\"\n",
    "    # Knight's moves\n",
    "    knight_moves = [\n",
    "        (2, 1), (2, -1), (-2, 1), (-2, -1),\n",
    "        (1, 2), (1, -2), (-1, 2), (-1, -2)\n",
    "    ]\n",
    "    # Directly adjacent moves\n",
    "    adjacent_moves = [(0, 1), (0, -1), (1, 0), (-1, 0), (1, 1), (1, -1), (-1, 1), (-1, -1)]\n",
    "\n",
    "    return knight_moves + adjacent_moves\n",
    "\n",
    "def calculate_cost(row, col, dr, dc, base_cost):\n",
    "    \"\"\" Calculate cost based on Euclidean distance \"\"\"\n",
    "    distance = np.sqrt(dr**2 + dc**2)\n",
    "    return base_cost * distance\n",
    "\n",
    "def is_valid_move(row, col, max_row, max_col):\n",
    "    return 0 <= row < max_row and 0 <= col < max_col\n",
    "\n",
    "def dijkstra(raster, start_row, start_col):\n",
    "    max_row, max_col = raster.shape\n",
    "    dist = np.full(raster.shape, np.inf)\n",
    "    dist[start_row, start_col] = 0\n",
    "    queue = [(0, start_row, start_col)]\n",
    "\n",
    "    while queue:\n",
    "        cost, row, col = heapq.heappop(queue)\n",
    "        for dr, dc in movement_options():\n",
    "            new_row, new_col = row + dr, col + dc\n",
    "            if is_valid_move(new_row, new_col, max_row, max_col):\n",
    "                new_cost = cost + calculate_cost(row, col, dr, dc, raster[new_row, new_col])\n",
    "                if new_cost < dist[new_row, new_col]:\n",
    "                    dist[new_row, new_col] = new_cost\n",
    "                    heapq.heappush(queue, (new_cost, new_row, new_col))\n",
    "    return dist\n",
    "\n",
    "def get_raster_indices(src, lon, lat):\n",
    "    \"\"\" Convert geographic coordinates to raster indices \"\"\"\n",
    "    return rowcol(src.transform, lon, lat)\n",
    "\n",
    "# Inputs and raster processing\n",
    "costs_raster = input(\"Enter the path to your cost raster file: \")\n",
    "costsAcum_raster = input(\"Enter the path for the outputcost distance raster file: \")\n",
    "latitude = float(input(\"Enter the latitude/north of the starting point: \"))\n",
    "longitude = float(input(\"Enter the longitude/east of the starting point: \"))\n",
    "\n",
    "with rasterio.open(costs_raster) as src:\n",
    "    raster = src.read(1)\n",
    "    start_row, start_col = get_raster_indices(src, longitude, latitude)\n",
    "    accumulated_cost = dijkstra(raster, start_row, start_col)\n",
    "\n",
    "    with rasterio.open(\n",
    "        costsAcum_raster,\n",
    "        'w',\n",
    "        driver=src.driver,\n",
    "        height=src.height,\n",
    "        width=src.width,\n",
    "        count=1,\n",
    "        dtype=accumulated_cost.dtype,\n",
    "        crs=src.crs,\n",
    "        transform=src.transform\n",
    "    ) as dst:\n",
    "        dst.write(accumulated_cost, 1)\n",
    "\n",
    "print(\"Output raster created:\", output_file)\n"
   ]
  }
 ],
 "metadata": {
  "kernelspec": {
   "display_name": "Python 3",
   "language": "python",
   "name": "python3"
  },
  "language_info": {
   "codemirror_mode": {
    "name": "ipython",
    "version": 3
   },
   "file_extension": ".py",
   "mimetype": "text/x-python",
   "name": "python",
   "nbconvert_exporter": "python",
   "pygments_lexer": "ipython3",
   "version": "3.8.6"
  }
 },
 "nbformat": 4,
 "nbformat_minor": 4
}
